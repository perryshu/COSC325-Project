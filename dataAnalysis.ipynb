{
 "cells": [
  {
   "cell_type": "code",
   "execution_count": 52,
   "id": "49c0bfde",
   "metadata": {},
   "outputs": [],
   "source": [
    "import os\n",
    "import pandas as pd\n",
    "import numpy as np\n",
    "import matplotlib.pyplot as plt\n",
    "import seaborn as sns\n",
    "from PIL import Image\n",
    "from tqdm import tqdm"
   ]
  },
  {
   "cell_type": "code",
   "execution_count": null,
   "id": "cd140ee7",
   "metadata": {},
   "outputs": [
    {
     "data": {
      "text/html": [
       "<div>\n",
       "<style scoped>\n",
       "    .dataframe tbody tr th:only-of-type {\n",
       "        vertical-align: middle;\n",
       "    }\n",
       "\n",
       "    .dataframe tbody tr th {\n",
       "        vertical-align: top;\n",
       "    }\n",
       "\n",
       "    .dataframe thead th {\n",
       "        text-align: right;\n",
       "    }\n",
       "</style>\n",
       "<table border=\"1\" class=\"dataframe\">\n",
       "  <thead>\n",
       "    <tr style=\"text-align: right;\">\n",
       "      <th></th>\n",
       "      <th>filename</th>\n",
       "      <th>label</th>\n",
       "    </tr>\n",
       "  </thead>\n",
       "  <tbody>\n",
       "    <tr>\n",
       "      <th>0</th>\n",
       "      <td>cardboard_02038.jpg</td>\n",
       "      <td>cardboard</td>\n",
       "    </tr>\n",
       "    <tr>\n",
       "      <th>1</th>\n",
       "      <td>cardboard_02320.jpg</td>\n",
       "      <td>cardboard</td>\n",
       "    </tr>\n",
       "    <tr>\n",
       "      <th>2</th>\n",
       "      <td>cardboard_01728.jpg</td>\n",
       "      <td>cardboard</td>\n",
       "    </tr>\n",
       "    <tr>\n",
       "      <th>3</th>\n",
       "      <td>cardboard_00093.jpg</td>\n",
       "      <td>cardboard</td>\n",
       "    </tr>\n",
       "    <tr>\n",
       "      <th>4</th>\n",
       "      <td>cardboard_00094.jpg</td>\n",
       "      <td>cardboard</td>\n",
       "    </tr>\n",
       "  </tbody>\n",
       "</table>\n",
       "</div>"
      ],
      "text/plain": [
       "              filename      label\n",
       "0  cardboard_02038.jpg  cardboard\n",
       "1  cardboard_02320.jpg  cardboard\n",
       "2  cardboard_01728.jpg  cardboard\n",
       "3  cardboard_00093.jpg  cardboard\n",
       "4  cardboard_00094.jpg  cardboard"
      ]
     },
     "metadata": {},
     "output_type": "display_data"
    }
   ],
   "source": [
    "# Load Dataset Metadata\n",
    "metadata_path = './Garbage_data/Garbage_Dataset_Classification/metadata.csv'\n",
    "metadata_df = pd.read_csv(metadata_path)"
   ]
  },
  {
   "cell_type": "code",
   "execution_count": null,
   "id": "d6727c80",
   "metadata": {},
   "outputs": [
    {
     "name": "stdout",
     "output_type": "stream",
     "text": [
      "Missing 0 out of 13901 images\n"
     ]
    }
   ],
   "source": [
    "# check any missing images\n",
    "image_folder = './Garbage_data/Garbage_Dataset_Classification/images/'\n",
    "\n",
    "metadata_df['filepath'] = (image_folder + '/' + metadata_df['label'] + '/' + metadata_df['filename'])\n",
    "\n",
    "for i in metadata_df['filepath']:\n",
    "    metadata_df['missing'] = not os.path.exists(i)\n",
    "    \n",
    "\n",
    "print(f\"Missing {metadata_df['missing'].sum()} out of {len(metadata_df)} images\")\n"
   ]
  },
  {
   "cell_type": "code",
   "execution_count": null,
   "id": "3f430b02",
   "metadata": {},
   "outputs": [
    {
     "name": "stdout",
     "output_type": "stream",
     "text": [
      "Corrupted 0 out of 13901 images\n"
     ]
    }
   ],
   "source": [
    "# check corrupted images \n",
    "def file_corrupted(path):\n",
    "    try:\n",
    "        img = Image.open(path)\n",
    "        img.verify()\n",
    "        return False\n",
    "    except (IOError, SyntaxError):\n",
    "        return True\n",
    "\n",
    "metadata_df['corrupted'] = metadata_df['filepath'].apply(file_corrupted)\n",
    "print(f\"Corrupted {metadata_df['corrupted'].sum()} out of {len(metadata_df)} images\")"
   ]
  },
  {
   "cell_type": "code",
   "execution_count": 55,
   "id": "1a3d3d97",
   "metadata": {},
   "outputs": [
    {
     "data": {
      "image/png": "[encoded data removed]",
      "text/plain": [
       "<Figure size 600x400 with 1 Axes>"
      ]
     },
     "metadata": {},
     "output_type": "display_data"
    }
   ],
   "source": [
    "# get counts and percentages \n",
    "\n",
    "counts = metadata_df['label'].value_counts()\n",
    "total = len(metadata_df)\n",
    "labels = counts.index\n",
    "values = counts.values\n",
    "percentages = (values / total) * 100\n",
    "\n",
    "plt.figure(figsize=(6,4))\n",
    "ax = sns.barplot(x = labels, y = values)\n",
    "ax.set_title(\"distribution\")\n",
    "ax.set_xlabel(\"class\")\n",
    "ax.set_ylabel(\"count\")\n",
    "\n",
    "for i in range(len(labels)):\n",
    "    ax.text(i, values[i], f'{percentages[i]:.2f}%', ha = 'center', va = 'top')\n",
    "\n",
    "plt.show()\n",
    "\n",
    "    "
   ]
  },
  {
   "cell_type": "code",
   "execution_count": 65,
   "id": "3e7f2930",
   "metadata": {},
   "outputs": [
    {
     "name": "stdout",
     "output_type": "stream",
     "text": [
      "Corrupted: 0\n",
      "Sizes: \n",
      "(256, 256) : 13901\n",
      "Modes: \n",
      "RGB : 13901\n"
     ]
    }
   ],
   "source": [
    "sizes = {}\n",
    "modes = {}\n",
    "\n",
    "# conv to list to make things easier\n",
    "filepaths = metadata_df['filepath'].tolist()\n",
    "\n",
    "num_corrupted = 0\n",
    "for i in range(len(metadata_df['filepath'])):\n",
    "    path = filepaths[i]\n",
    "    \n",
    "    try:\n",
    "        img = Image.open(path)\n",
    "        width, height = img.size\n",
    "        mode = img.mode\n",
    "        img.close()\n",
    "        \n",
    "        # find all unique dimensions and modes\n",
    "        dim = (width, height)\n",
    "        sizes[dim] = sizes[dim]+1 if dim in sizes else 1\n",
    "        modes[mode] = modes[mode]+1 if mode in modes else 1\n",
    "    except (IOError, SyntaxError):\n",
    "        num_corrupted+=1\n",
    "    \n",
    "print(f\"Corrupted: {num_corrupted}\")\n",
    "\n",
    " \n",
    "print(\"Sizes: \")\n",
    "for dim in sizes:\n",
    "    print(f\"{dim} : {sizes[dim]}\")\n",
    "\n",
    "print(\"Modes: \")\n",
    "for mode in modes:\n",
    "    print(f\"{mode} : {modes[mode]}\")\n",
    "    "
   ]
  }
 ],
 "metadata": {
  "kernelspec": {
   "display_name": ".venv",
   "language": "python",
   "name": "python3"
  },
  "language_info": {
   "codemirror_mode": {
    "name": "ipython",
    "version": 3
   },
   "file_extension": ".py",
   "mimetype": "text/x-python",
   "name": "python",
   "nbconvert_exporter": "python",
   "pygments_lexer": "ipython3",
   "version": "3.13.7"
  }
 },
 "nbformat": 4,
 "nbformat_minor": 5
}
